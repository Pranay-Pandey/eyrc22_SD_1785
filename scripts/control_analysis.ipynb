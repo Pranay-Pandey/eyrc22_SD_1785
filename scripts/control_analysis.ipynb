{
 "cells": [
  {
   "cell_type": "code",
   "execution_count": 1,
   "metadata": {},
   "outputs": [],
   "source": [
    "import sympy as sym\n",
    "from sympy.physics.mechanics import dynamicsymbols, init_vprinting\n",
    "from IPython.display import display, Math\n",
    "sym.init_printing()\n",
    "init_vprinting()"
   ]
  },
  {
   "cell_type": "code",
   "execution_count": 2,
   "metadata": {},
   "outputs": [
    {
     "data": {
      "image/png": "[encoded data removed]",
      "text/latex": [
       "$\\displaystyle \\left( t, \\  \\alpha, \\  T, \\  m, \\  g, \\  \\lambda, \\  T_{max}\\right)$"
      ],
      "text/plain": [
       "(t, α, T, m, g, λ, Tₘₐₓ)"
      ]
     },
     "execution_count": 2,
     "metadata": {},
     "output_type": "execute_result"
    }
   ],
   "source": [
    "delt = sym.Symbol(\"\\delta t\")\n",
    "T, alpha, m, gr, t, Lambda, T_max= sym.symbols(\"T alpha m, g t, lambda T_max\")\n",
    "t, alpha, T, m, gr, Lambda, T_max"
   ]
  },
  {
   "cell_type": "code",
   "execution_count": 3,
   "metadata": {},
   "outputs": [
    {
     "data": {
      "image/png": "[encoded data removed]",
      "text/latex": [
       "$\\displaystyle \\left( x, \\  y, \\  z\\right)$"
      ],
      "text/plain": [
       "(x, y, z)"
      ]
     },
     "execution_count": 3,
     "metadata": {},
     "output_type": "execute_result"
    }
   ],
   "source": [
    "x, y, z = dynamicsymbols(\"x y z\")\n",
    "\n",
    "x, y, z"
   ]
  },
  {
   "attachments": {},
   "cell_type": "markdown",
   "metadata": {},
   "source": [
    "<big>Continuous-Time Linear Quadratic Regulator</big>\n",
    "\n",
    "dX/dt = AX + Bu"
   ]
  },
  {
   "cell_type": "code",
   "execution_count": 4,
   "metadata": {},
   "outputs": [
    {
     "data": {
      "image/png": "[encoded data removed]",
      "text/latex": [
       "$\\displaystyle \\dot{X} = A X + B u$"
      ],
      "text/plain": [
       "Ẋ = A⋅X + B⋅u"
      ]
     },
     "execution_count": 4,
     "metadata": {},
     "output_type": "execute_result"
    }
   ],
   "source": [
    "a, b, us = sym.symbols(\"A B u\")\n",
    "xs = dynamicsymbols(\"X\")\n",
    "sym.Eq(xs.diff(t), a*xs + b*us)"
   ]
  },
  {
   "cell_type": "code",
   "execution_count": 5,
   "metadata": {},
   "outputs": [
    {
     "data": {
      "image/png": "[encoded data removed]",
      "text/latex": [
       "$\\displaystyle \\left( u_{roll}, \\  u_{pitch}, \\  u_{throttle}\\right)$"
      ],
      "text/plain": [
       "(uᵣₒₗₗ, u_pitch, uₜₕᵣₒₜₜₗₑ)"
      ]
     },
     "execution_count": 5,
     "metadata": {},
     "output_type": "execute_result"
    }
   ],
   "source": [
    "uroll, upitch, uthrottle = sym.symbols(\"u_roll u_pitch u_throttle\")\n",
    "uroll, upitch, uthrottle"
   ]
  },
  {
   "cell_type": "code",
   "execution_count": 6,
   "metadata": {},
   "outputs": [
    {
     "data": {
      "text/latex": [
       "$\\displaystyle \\left[\\begin{matrix}x\\\\\\dot{x}\\\\y\\\\\\dot{y}\\\\z\\\\\\dot{z}\\end{matrix}\\right]$"
      ],
      "text/plain": [
       "⎡x⎤\n",
       "⎢ ⎥\n",
       "⎢ẋ⎥\n",
       "⎢ ⎥\n",
       "⎢y⎥\n",
       "⎢ ⎥\n",
       "⎢ẏ⎥\n",
       "⎢ ⎥\n",
       "⎢z⎥\n",
       "⎢ ⎥\n",
       "⎣ż⎦"
      ]
     },
     "execution_count": 6,
     "metadata": {},
     "output_type": "execute_result"
    }
   ],
   "source": [
    "X = sym.Matrix([[x],\n",
    "                [x.diff(t)],\n",
    "\t\t\t\t[y],\n",
    "\t\t\t\t[y.diff(t)],\n",
    "\t\t\t\t[z],\n",
    "\t\t\t\t[z.diff(t)]])\n",
    "X"
   ]
  },
  {
   "cell_type": "code",
   "execution_count": 7,
   "metadata": {},
   "outputs": [
    {
     "data": {
      "text/latex": [
       "$\\displaystyle \\left[\\begin{matrix}u_{roll}\\\\u_{pitch}\\\\u_{throttle}\\end{matrix}\\right]$"
      ],
      "text/plain": [
       "⎡  uᵣₒₗₗ  ⎤\n",
       "⎢         ⎥\n",
       "⎢ u_pitch ⎥\n",
       "⎢         ⎥\n",
       "⎣uₜₕᵣₒₜₜₗₑ⎦"
      ]
     },
     "execution_count": 7,
     "metadata": {},
     "output_type": "execute_result"
    }
   ],
   "source": [
    "U = sym.Matrix([[uroll],\n",
    "                [upitch],\n",
    "                [uthrottle]])\n",
    "U"
   ]
  },
  {
   "cell_type": "code",
   "execution_count": 8,
   "metadata": {},
   "outputs": [
    {
     "data": {
      "text/latex": [
       "$\\displaystyle \\left[\\begin{matrix}0 & 1 & 0 & 0 & 0 & 0\\\\0 & 0 & 0 & 0 & 0 & 0\\\\0 & 0 & 0 & 1 & 0 & 0\\\\0 & 0 & 0 & 0 & 0 & 0\\\\0 & 0 & 0 & 0 & 0 & 1\\\\0 & 0 & 0 & 0 & 0 & 0\\end{matrix}\\right]$"
      ],
      "text/plain": [
       "⎡0  1  0  0  0  0⎤\n",
       "⎢                ⎥\n",
       "⎢0  0  0  0  0  0⎥\n",
       "⎢                ⎥\n",
       "⎢0  0  0  1  0  0⎥\n",
       "⎢                ⎥\n",
       "⎢0  0  0  0  0  0⎥\n",
       "⎢                ⎥\n",
       "⎢0  0  0  0  0  1⎥\n",
       "⎢                ⎥\n",
       "⎣0  0  0  0  0  0⎦"
      ]
     },
     "execution_count": 8,
     "metadata": {},
     "output_type": "execute_result"
    }
   ],
   "source": [
    "A = sym.Matrix([[0, 1, 0, 0, 0, 0],\n",
    "                [0, 0, 0, 0, 0, 0],\n",
    "\t\t\t\t[0, 0, 0, 1, 0, 0],\n",
    "\t\t\t\t[0, 0, 0, 0, 0, 0],\n",
    "\t\t\t\t[0, 0, 0, 0, 0, 1],\n",
    "\t\t\t\t[0, 0, 0, 0, 0, 0]])\n",
    "A"
   ]
  },
  {
   "cell_type": "code",
   "execution_count": 9,
   "metadata": {},
   "outputs": [
    {
     "data": {
      "text/latex": [
       "$\\displaystyle \\left[\\begin{matrix}0 & 0 & 0\\\\\\frac{\\alpha g m}{\\lambda} & 0 & 0\\\\0 & 0 & 0\\\\0 & - \\frac{\\alpha g m}{\\lambda} & 0\\\\0 & 0 & 0\\\\0 & 0 & \\frac{- T_{max} + g m}{\\lambda}\\end{matrix}\\right]$"
      ],
      "text/plain": [
       "⎡  0       0          0     ⎤\n",
       "⎢                           ⎥\n",
       "⎢α⋅g⋅m                      ⎥\n",
       "⎢─────     0          0     ⎥\n",
       "⎢  λ                        ⎥\n",
       "⎢                           ⎥\n",
       "⎢  0       0          0     ⎥\n",
       "⎢                           ⎥\n",
       "⎢       -α⋅g⋅m              ⎥\n",
       "⎢  0    ───────       0     ⎥\n",
       "⎢          λ                ⎥\n",
       "⎢                           ⎥\n",
       "⎢  0       0          0     ⎥\n",
       "⎢                           ⎥\n",
       "⎢                -Tₘₐₓ + g⋅m⎥\n",
       "⎢  0       0     ───────────⎥\n",
       "⎣                     λ     ⎦"
      ]
     },
     "execution_count": 9,
     "metadata": {},
     "output_type": "execute_result"
    }
   ],
   "source": [
    "B = sym.Matrix([[0, 0, 0],\n",
    "\t\t        [alpha*m*gr/Lambda, 0, 0],\n",
    "\t\t\t\t[0, 0, 0],\n",
    "\t\t\t\t[0, -alpha*m*gr/Lambda, 0],\n",
    "\t\t\t\t[0, 0, 0],\n",
    "\t\t\t\t[0, 0, -(T_max-m*gr)/Lambda]])\n",
    "B"
   ]
  },
  {
   "cell_type": "code",
   "execution_count": 10,
   "metadata": {},
   "outputs": [
    {
     "data": {
      "text/latex": [
       "$\\displaystyle \\left[\\begin{matrix}\\dot{x}\\\\\\ddot{x}\\\\\\dot{y}\\\\\\ddot{y}\\\\\\dot{z}\\\\\\ddot{z}\\end{matrix}\\right] = \\left[\\begin{matrix}0 & 0 & 0\\\\\\frac{\\alpha g m}{\\lambda} & 0 & 0\\\\0 & 0 & 0\\\\0 & - \\frac{\\alpha g m}{\\lambda} & 0\\\\0 & 0 & 0\\\\0 & 0 & \\frac{- T_{max} + g m}{\\lambda}\\end{matrix}\\right] \\left[\\begin{matrix}u_{roll}\\\\u_{pitch}\\\\u_{throttle}\\end{matrix}\\right] + \\left[\\begin{matrix}0 & 1 & 0 & 0 & 0 & 0\\\\0 & 0 & 0 & 0 & 0 & 0\\\\0 & 0 & 0 & 1 & 0 & 0\\\\0 & 0 & 0 & 0 & 0 & 0\\\\0 & 0 & 0 & 0 & 0 & 1\\\\0 & 0 & 0 & 0 & 0 & 0\\end{matrix}\\right] \\left[\\begin{matrix}x\\\\\\dot{x}\\\\y\\\\\\dot{y}\\\\z\\\\\\dot{z}\\end{matrix}\\right]$"
      ],
      "text/plain": [
       "                               ⎡  0       0          0     ⎤            \n",
       "                               ⎢                           ⎥            \n",
       "                               ⎢α⋅g⋅m                      ⎥            \n",
       "⎡ẋ⎤   ⎡0  1  0  0  0  0⎤ ⎡x⎤   ⎢─────     0          0     ⎥            \n",
       "⎢ ⎥   ⎢                ⎥ ⎢ ⎥   ⎢  λ                        ⎥            \n",
       "⎢ẍ⎥   ⎢0  0  0  0  0  0⎥ ⎢ẋ⎥   ⎢                           ⎥            \n",
       "⎢ ⎥   ⎢                ⎥ ⎢ ⎥   ⎢  0       0          0     ⎥ ⎡  uᵣₒₗₗ  ⎤\n",
       "⎢ẏ⎥   ⎢0  0  0  1  0  0⎥ ⎢y⎥   ⎢                           ⎥ ⎢         ⎥\n",
       "⎢ ⎥ = ⎢                ⎥⋅⎢ ⎥ + ⎢       -α⋅g⋅m              ⎥⋅⎢ u_pitch ⎥\n",
       "⎢ÿ⎥   ⎢0  0  0  0  0  0⎥ ⎢ẏ⎥   ⎢  0    ───────       0     ⎥ ⎢         ⎥\n",
       "⎢ ⎥   ⎢                ⎥ ⎢ ⎥   ⎢          λ                ⎥ ⎣uₜₕᵣₒₜₜₗₑ⎦\n",
       "⎢ż⎥   ⎢0  0  0  0  0  1⎥ ⎢z⎥   ⎢                           ⎥            \n",
       "⎢ ⎥   ⎢                ⎥ ⎢ ⎥   ⎢  0       0          0     ⎥            \n",
       "⎣z̈⎦   ⎣0  0  0  0  0  0⎦ ⎣ż⎦   ⎢                           ⎥            \n",
       "                               ⎢                -Tₘₐₓ + g⋅m⎥            \n",
       "                               ⎢  0       0     ───────────⎥            \n",
       "                               ⎣                     λ     ⎦            "
      ]
     },
     "execution_count": 10,
     "metadata": {},
     "output_type": "execute_result"
    }
   ],
   "source": [
    "sym.Eq(X.diff(t), sym.MatAdd(sym.MatMul(A, X), sym.MatMul(B, U)))"
   ]
  },
  {
   "cell_type": "code",
   "execution_count": 13,
   "metadata": {},
   "outputs": [
    {
     "data": {
      "text/latex": [
       "$\\displaystyle \\left[\\begin{matrix}\\dot{x}\\\\\\ddot{x}\\\\\\dot{y}\\\\\\ddot{y}\\\\\\dot{z}\\\\\\ddot{z}\\end{matrix}\\right] = \\left[\\begin{matrix}\\dot{x}\\\\\\frac{\\alpha g m u_{roll}}{\\lambda}\\\\\\dot{y}\\\\- \\frac{\\alpha g m u_{pitch}}{\\lambda}\\\\\\dot{z}\\\\\\frac{u_{throttle} \\left(- T_{max} + g m\\right)}{\\lambda}\\end{matrix}\\right]$"
      ],
      "text/plain": [
       "      ⎡           ẋ           ⎤\n",
       "      ⎢                       ⎥\n",
       "      ⎢      α⋅g⋅m⋅uᵣₒₗₗ      ⎥\n",
       "⎡ẋ⎤   ⎢      ───────────      ⎥\n",
       "⎢ ⎥   ⎢           λ           ⎥\n",
       "⎢ẍ⎥   ⎢                       ⎥\n",
       "⎢ ⎥   ⎢           ẏ           ⎥\n",
       "⎢ẏ⎥   ⎢                       ⎥\n",
       "⎢ ⎥ = ⎢    -α⋅g⋅m⋅u_pitch     ⎥\n",
       "⎢ÿ⎥   ⎢    ───────────────    ⎥\n",
       "⎢ ⎥   ⎢           λ           ⎥\n",
       "⎢ż⎥   ⎢                       ⎥\n",
       "⎢ ⎥   ⎢           ż           ⎥\n",
       "⎣z̈⎦   ⎢                       ⎥\n",
       "      ⎢uₜₕᵣₒₜₜₗₑ⋅(-Tₘₐₓ + g⋅m)⎥\n",
       "      ⎢───────────────────────⎥\n",
       "      ⎣           λ           ⎦"
      ]
     },
     "execution_count": 13,
     "metadata": {},
     "output_type": "execute_result"
    }
   ],
   "source": [
    "sym.Eq(X.diff(t), A*X + B*U)"
   ]
  },
  {
   "attachments": {},
   "cell_type": "markdown",
   "metadata": {},
   "source": [
    "<big>Discrete-Time Linear Quadratic Regulator</big>\n",
    "\n",
    "Xn+1 = AXn + Bu"
   ]
  },
  {
   "cell_type": "code",
   "execution_count": 14,
   "metadata": {},
   "outputs": [
    {
     "data": {
      "image/png": "[encoded data removed]",
      "text/latex": [
       "$\\displaystyle \\left( X_{n+1}, \\  X_{n}, \\  F, \\  G, \\  u_{n}\\right)$"
      ],
      "text/plain": [
       "(Xₙ₊₁, Xₙ, F, G, uₙ)"
      ]
     },
     "execution_count": 14,
     "metadata": {},
     "output_type": "execute_result"
    }
   ],
   "source": [
    "Xn1, Xn, f, g, un = sym.symbols(\"X_n+1 X_n F G u_n\")\n",
    "Xn1, Xn, f, g, un"
   ]
  },
  {
   "cell_type": "code",
   "execution_count": 15,
   "metadata": {},
   "outputs": [
    {
     "data": {
      "image/png": "[encoded data removed]",
      "text/latex": [
       "$\\displaystyle X_{n+1} = F X_{n} + G u_{n}$"
      ],
      "text/plain": [
       "Xₙ₊₁ = F⋅Xₙ + G⋅uₙ"
      ]
     },
     "execution_count": 15,
     "metadata": {},
     "output_type": "execute_result"
    }
   ],
   "source": [
    "sym.Eq(Xn1, f*Xn + g*un)"
   ]
  },
  {
   "cell_type": "code",
   "execution_count": 16,
   "metadata": {},
   "outputs": [
    {
     "data": {
      "image/png": "[encoded data removed]",
      "text/latex": [
       "$\\displaystyle F = e^{A \\delta t}$"
      ],
      "text/plain": [
       "     A⋅\\delta t\n",
       "F = ℯ          "
      ]
     },
     "execution_count": 16,
     "metadata": {},
     "output_type": "execute_result"
    }
   ],
   "source": [
    "sym.Eq(f, sym.exp(a*delt))"
   ]
  },
  {
   "cell_type": "code",
   "execution_count": 17,
   "metadata": {},
   "outputs": [
    {
     "data": {
      "image/png": "[encoded data removed]",
      "text/latex": [
       "$\\displaystyle G = B \\int\\limits_{0}^{\\delta t} e^{A t}\\, dt$"
      ],
      "text/plain": [
       "      \\delta t        \n",
       "         ⌠            \n",
       "         ⎮      A⋅t   \n",
       "G = B⋅   ⎮     ℯ    dt\n",
       "         ⌡            \n",
       "         0            "
      ]
     },
     "execution_count": 17,
     "metadata": {},
     "output_type": "execute_result"
    }
   ],
   "source": [
    "sym.Eq(g, (sym.Integral(sym.exp(a*t), (t, 0, delt)))*b)"
   ]
  },
  {
   "cell_type": "code",
   "execution_count": 18,
   "metadata": {},
   "outputs": [
    {
     "data": {
      "text/latex": [
       "$\\displaystyle \\left[\\begin{matrix}0 & \\delta t & 0 & 0 & 0 & 0\\\\0 & 0 & 0 & 0 & 0 & 0\\\\0 & 0 & 0 & \\delta t & 0 & 0\\\\0 & 0 & 0 & 0 & 0 & 0\\\\0 & 0 & 0 & 0 & 0 & \\delta t\\\\0 & 0 & 0 & 0 & 0 & 0\\end{matrix}\\right]$"
      ],
      "text/plain": [
       "⎡0  \\delta t  0     0      0     0    ⎤\n",
       "⎢                                     ⎥\n",
       "⎢0     0      0     0      0     0    ⎥\n",
       "⎢                                     ⎥\n",
       "⎢0     0      0  \\delta t  0     0    ⎥\n",
       "⎢                                     ⎥\n",
       "⎢0     0      0     0      0     0    ⎥\n",
       "⎢                                     ⎥\n",
       "⎢0     0      0     0      0  \\delta t⎥\n",
       "⎢                                     ⎥\n",
       "⎣0     0      0     0      0     0    ⎦"
      ]
     },
     "execution_count": 18,
     "metadata": {},
     "output_type": "execute_result"
    }
   ],
   "source": [
    "A*delt"
   ]
  },
  {
   "cell_type": "code",
   "execution_count": 19,
   "metadata": {},
   "outputs": [
    {
     "data": {
      "text/latex": [
       "$\\displaystyle \\left[\\begin{matrix}1 & \\delta t & 0 & 0 & 0 & 0\\\\0 & 1 & 0 & 0 & 0 & 0\\\\0 & 0 & 1 & \\delta t & 0 & 0\\\\0 & 0 & 0 & 1 & 0 & 0\\\\0 & 0 & 0 & 0 & 1 & \\delta t\\\\0 & 0 & 0 & 0 & 0 & 1\\end{matrix}\\right]$"
      ],
      "text/plain": [
       "⎡1  \\delta t  0     0      0     0    ⎤\n",
       "⎢                                     ⎥\n",
       "⎢0     1      0     0      0     0    ⎥\n",
       "⎢                                     ⎥\n",
       "⎢0     0      1  \\delta t  0     0    ⎥\n",
       "⎢                                     ⎥\n",
       "⎢0     0      0     1      0     0    ⎥\n",
       "⎢                                     ⎥\n",
       "⎢0     0      0     0      1  \\delta t⎥\n",
       "⎢                                     ⎥\n",
       "⎣0     0      0     0      0     1    ⎦"
      ]
     },
     "execution_count": 19,
     "metadata": {},
     "output_type": "execute_result"
    }
   ],
   "source": [
    "F = sym.exp(A*delt)\n",
    "F"
   ]
  },
  {
   "cell_type": "code",
   "execution_count": 20,
   "metadata": {},
   "outputs": [
    {
     "data": {
      "text/latex": [
       "$\\displaystyle \\int\\limits_{0}^{\\delta t} \\left[\\begin{matrix}1 & t & 0 & 0 & 0 & 0\\\\0 & 1 & 0 & 0 & 0 & 0\\\\0 & 0 & 1 & t & 0 & 0\\\\0 & 0 & 0 & 1 & 0 & 0\\\\0 & 0 & 0 & 0 & 1 & t\\\\0 & 0 & 0 & 0 & 0 & 1\\end{matrix}\\right]\\, dt$"
      ],
      "text/plain": [
       "\\delta t                      \n",
       "   ⌠                          \n",
       "   ⎮     ⎡1  t  0  0  0  0⎤   \n",
       "   ⎮     ⎢                ⎥   \n",
       "   ⎮     ⎢0  1  0  0  0  0⎥   \n",
       "   ⎮     ⎢                ⎥   \n",
       "   ⎮     ⎢0  0  1  t  0  0⎥   \n",
       "   ⎮     ⎢                ⎥ dt\n",
       "   ⎮     ⎢0  0  0  1  0  0⎥   \n",
       "   ⎮     ⎢                ⎥   \n",
       "   ⎮     ⎢0  0  0  0  1  t⎥   \n",
       "   ⎮     ⎢                ⎥   \n",
       "   ⎮     ⎣0  0  0  0  0  1⎦   \n",
       "   ⌡                          \n",
       "   0                          "
      ]
     },
     "execution_count": 20,
     "metadata": {},
     "output_type": "execute_result"
    }
   ],
   "source": [
    "I=sym.Integral(sym.exp(A*t), (t, 0, delt))\n",
    "I"
   ]
  },
  {
   "cell_type": "code",
   "execution_count": 21,
   "metadata": {},
   "outputs": [
    {
     "data": {
      "text/latex": [
       "$\\displaystyle \\left[\\begin{matrix}\\delta t & \\frac{\\delta t^{2}}{2} & 0 & 0 & 0 & 0\\\\0 & \\delta t & 0 & 0 & 0 & 0\\\\0 & 0 & \\delta t & \\frac{\\delta t^{2}}{2} & 0 & 0\\\\0 & 0 & 0 & \\delta t & 0 & 0\\\\0 & 0 & 0 & 0 & \\delta t & \\frac{\\delta t^{2}}{2}\\\\0 & 0 & 0 & 0 & 0 & \\delta t\\end{matrix}\\right]$"
      ],
      "text/plain": [
       "⎡                  2                                          ⎤\n",
       "⎢          \\delta t                                           ⎥\n",
       "⎢\\delta t  ─────────     0          0         0          0    ⎥\n",
       "⎢              2                                              ⎥\n",
       "⎢                                                             ⎥\n",
       "⎢   0      \\delta t      0          0         0          0    ⎥\n",
       "⎢                                                             ⎥\n",
       "⎢                                       2                     ⎥\n",
       "⎢                               \\delta t                      ⎥\n",
       "⎢   0          0      \\delta t  ─────────     0          0    ⎥\n",
       "⎢                                   2                         ⎥\n",
       "⎢                                                             ⎥\n",
       "⎢   0          0         0      \\delta t      0          0    ⎥\n",
       "⎢                                                             ⎥\n",
       "⎢                                                            2⎥\n",
       "⎢                                                    \\delta t ⎥\n",
       "⎢   0          0         0          0      \\delta t  ─────────⎥\n",
       "⎢                                                        2    ⎥\n",
       "⎢                                                             ⎥\n",
       "⎣   0          0         0          0         0      \\delta t ⎦"
      ]
     },
     "execution_count": 21,
     "metadata": {},
     "output_type": "execute_result"
    }
   ],
   "source": [
    "I.doit()"
   ]
  },
  {
   "cell_type": "code",
   "execution_count": 22,
   "metadata": {},
   "outputs": [
    {
     "data": {
      "text/latex": [
       "$\\displaystyle \\left[\\begin{matrix}\\frac{\\delta t^{2} \\alpha g m}{2 \\lambda} & 0 & 0\\\\\\frac{\\delta t \\alpha g m}{\\lambda} & 0 & 0\\\\0 & - \\frac{\\delta t^{2} \\alpha g m}{2 \\lambda} & 0\\\\0 & - \\frac{\\delta t \\alpha g m}{\\lambda} & 0\\\\0 & 0 & \\frac{\\delta t^{2} \\left(- T_{max} + g m\\right)}{2 \\lambda}\\\\0 & 0 & \\frac{\\delta t \\left(- T_{max} + g m\\right)}{\\lambda}\\end{matrix}\\right]$"
      ],
      "text/plain": [
       "⎡        2                                                  ⎤\n",
       "⎢\\delta t ⋅α⋅g⋅m                                            ⎥\n",
       "⎢───────────────          0                     0           ⎥\n",
       "⎢      2⋅λ                                                  ⎥\n",
       "⎢                                                           ⎥\n",
       "⎢\\delta t⋅α⋅g⋅m                                             ⎥\n",
       "⎢──────────────           0                     0           ⎥\n",
       "⎢      λ                                                    ⎥\n",
       "⎢                                                           ⎥\n",
       "⎢                          2                                ⎥\n",
       "⎢                 -\\delta t ⋅α⋅g⋅m                          ⎥\n",
       "⎢       0         ─────────────────             0           ⎥\n",
       "⎢                        2⋅λ                                ⎥\n",
       "⎢                                                           ⎥\n",
       "⎢                 -\\delta t⋅α⋅g⋅m                           ⎥\n",
       "⎢       0         ────────────────              0           ⎥\n",
       "⎢                        λ                                  ⎥\n",
       "⎢                                                           ⎥\n",
       "⎢                                            2              ⎥\n",
       "⎢                                    \\delta t ⋅(-Tₘₐₓ + g⋅m)⎥\n",
       "⎢       0                 0          ───────────────────────⎥\n",
       "⎢                                              2⋅λ          ⎥\n",
       "⎢                                                           ⎥\n",
       "⎢                                    \\delta t⋅(-Tₘₐₓ + g⋅m) ⎥\n",
       "⎢       0                 0          ────────────────────── ⎥\n",
       "⎣                                              λ            ⎦"
      ]
     },
     "execution_count": 22,
     "metadata": {},
     "output_type": "execute_result"
    }
   ],
   "source": [
    "G = I.doit()*B\n",
    "G"
   ]
  }
 ],
 "metadata": {
  "kernelspec": {
   "display_name": "python_VENV",
   "language": "python",
   "name": "python3"
  },
  "language_info": {
   "codemirror_mode": {
    "name": "ipython",
    "version": 3
   },
   "file_extension": ".py",
   "mimetype": "text/x-python",
   "name": "python",
   "nbconvert_exporter": "python",
   "pygments_lexer": "ipython3",
   "version": "3.8.10"
  },
  "orig_nbformat": 4,
  "vscode": {
   "interpreter": {
    "hash": "a28c246ae728887d907d56cbbcd71fc01acae8f647b8514d711f16455fca49de"
   }
  }
 },
 "nbformat": 4,
 "nbformat_minor": 2
}
